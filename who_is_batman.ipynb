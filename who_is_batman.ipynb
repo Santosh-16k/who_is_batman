{
 "cells": [
  {
   "cell_type": "code",
   "execution_count": 1,
   "metadata": {},
   "outputs": [],
   "source": [
    "from fastai2.vision.widgets import *\n",
    "from fastai2.vision.all import *"
   ]
  },
  {
   "cell_type": "code",
   "execution_count": 2,
   "metadata": {},
   "outputs": [],
   "source": [
    "learn_inf = load_learner('export.pkl')"
   ]
  },
  {
   "cell_type": "code",
   "execution_count": 3,
   "metadata": {},
   "outputs": [
    {
     "data": {
      "application/vnd.jupyter.widget-view+json": {
       "model_id": "72c121c2df1544318f9025cba6d3681e",
       "version_major": 2,
       "version_minor": 0
      },
      "text/plain": [
       "FileUpload(value={}, description='Upload')"
      ]
     },
     "metadata": {},
     "output_type": "display_data"
    }
   ],
   "source": [
    "btn_upload = widgets.FileUpload()\n",
    "btn_upload"
   ]
  },
  {
   "cell_type": "code",
   "execution_count": 4,
   "metadata": {},
   "outputs": [],
   "source": [
    "img = PILImage.create(btn_upload.data[-1])"
   ]
  },
  {
   "cell_type": "code",
   "execution_count": 5,
   "metadata": {},
   "outputs": [
    {
     "data": {
      "application/vnd.jupyter.widget-view+json": {
       "model_id": "360c5e2734394e66ac772bc2cdc49ce1",
       "version_major": 2,
       "version_minor": 0
      },
      "text/plain": [
       "Output()"
      ]
     },
     "metadata": {},
     "output_type": "display_data"
    }
   ],
   "source": [
    "out_pl = widgets.Output()\n",
    "out_pl.clear_output()\n",
    "with out_pl: display(img.to_thumb(128,128))\n",
    "out_pl"
   ]
  },
  {
   "cell_type": "code",
   "execution_count": 6,
   "metadata": {},
   "outputs": [
    {
     "data": {
      "text/html": [],
      "text/plain": [
       "<IPython.core.display.HTML object>"
      ]
     },
     "metadata": {},
     "output_type": "display_data"
    }
   ],
   "source": [
    "pred,pred_idx,probs = learn_inf.predict(img)"
   ]
  },
  {
   "cell_type": "code",
   "execution_count": 7,
   "metadata": {},
   "outputs": [
    {
     "data": {
      "application/vnd.jupyter.widget-view+json": {
       "model_id": "e3bf07ad38a44bee80b657ad59549990",
       "version_major": 2,
       "version_minor": 0
      },
      "text/plain": [
       "Label(value='Prediction: christian_bale; Probability: 0.9997')"
      ]
     },
     "metadata": {},
     "output_type": "display_data"
    }
   ],
   "source": [
    "lbl_pred = widgets.Label()\n",
    "lbl_pred.value = f'Prediction: {pred}; Probability: {probs[pred_idx]:.04f}'\n",
    "lbl_pred"
   ]
  },
  {
   "cell_type": "code",
   "execution_count": 8,
   "metadata": {},
   "outputs": [
    {
     "data": {
      "application/vnd.jupyter.widget-view+json": {
       "model_id": "99c3c2b6991e4cccbeebf45915d7c5f7",
       "version_major": 2,
       "version_minor": 0
      },
      "text/plain": [
       "Button(description='Classify', style=ButtonStyle())"
      ]
     },
     "metadata": {},
     "output_type": "display_data"
    }
   ],
   "source": [
    "btn_run = widgets.Button(description='Classify')\n",
    "btn_run"
   ]
  },
  {
   "cell_type": "code",
   "execution_count": 9,
   "metadata": {},
   "outputs": [],
   "source": [
    "def on_click_classify(change):\n",
    "    img = PILImage.create(btn_upload.data[-1])\n",
    "    out_pl.clear_output()\n",
    "    with out_pl: display(img.to_thumb(128,128))\n",
    "    pred,pred_idx,probs = learn_inf.predict(img)\n",
    "    lbl_pred.value = f'Prediction: {pred}; Probability: {probs[pred_idx]:.04f}'\n",
    "\n",
    "btn_run.on_click(on_click_classify)"
   ]
  },
  {
   "cell_type": "code",
   "execution_count": 10,
   "metadata": {},
   "outputs": [
    {
     "data": {
      "application/vnd.jupyter.widget-view+json": {
       "model_id": "352c0788d5434bb9a0a9c5c08d00623b",
       "version_major": 2,
       "version_minor": 0
      },
      "text/plain": [
       "VBox(children=(Label(value='Upload your batman!'), FileUpload(value={'batman-superman-christian-bale.jpg': {'m…"
      ]
     },
     "metadata": {},
     "output_type": "display_data"
    }
   ],
   "source": [
    "VBox([widgets.Label('Upload your batman!'),\n",
    "      btn_upload, btn_run, out_pl, lbl_pred])"
   ]
  },
  {
   "cell_type": "code",
   "execution_count": 11,
   "metadata": {},
   "outputs": [
    {
     "name": "stdout",
     "output_type": "stream",
     "text": [
      "Requirement already satisfied: voila in /home/ssl/anaconda3/envs/fastaiv2/lib/python3.6/site-packages (0.1.21)\n",
      "Requirement already satisfied: nbconvert<6,>=5.5.0 in /home/ssl/anaconda3/envs/fastaiv2/lib/python3.6/site-packages (from voila) (5.6.1)\n",
      "Requirement already satisfied: jupyterlab-pygments<0.2,>=0.1.0 in /home/ssl/anaconda3/envs/fastaiv2/lib/python3.6/site-packages (from voila) (0.1.1)\n",
      "Requirement already satisfied: pygments<3,>=2.4.1 in /home/ssl/anaconda3/envs/fastaiv2/lib/python3.6/site-packages (from voila) (2.6.1)\n",
      "Requirement already satisfied: async-generator in /home/ssl/anaconda3/envs/fastaiv2/lib/python3.6/site-packages (from voila) (1.10)\n",
      "Requirement already satisfied: jupyter-server<0.2.0,>=0.1.0 in /home/ssl/anaconda3/envs/fastaiv2/lib/python3.6/site-packages (from voila) (0.1.1)\n",
      "Requirement already satisfied: mistune<2,>=0.8.1 in /home/ssl/anaconda3/envs/fastaiv2/lib/python3.6/site-packages (from nbconvert<6,>=5.5.0->voila) (0.8.4)\n",
      "Requirement already satisfied: testpath in /home/ssl/anaconda3/envs/fastaiv2/lib/python3.6/site-packages (from nbconvert<6,>=5.5.0->voila) (0.4.4)\n",
      "Requirement already satisfied: bleach in /home/ssl/anaconda3/envs/fastaiv2/lib/python3.6/site-packages (from nbconvert<6,>=5.5.0->voila) (3.1.5)\n",
      "Requirement already satisfied: defusedxml in /home/ssl/anaconda3/envs/fastaiv2/lib/python3.6/site-packages (from nbconvert<6,>=5.5.0->voila) (0.6.0)\n",
      "Requirement already satisfied: jinja2>=2.4 in /home/ssl/anaconda3/envs/fastaiv2/lib/python3.6/site-packages (from nbconvert<6,>=5.5.0->voila) (2.11.2)\n",
      "Requirement already satisfied: traitlets>=4.2 in /home/ssl/anaconda3/envs/fastaiv2/lib/python3.6/site-packages (from nbconvert<6,>=5.5.0->voila) (4.3.3)\n",
      "Requirement already satisfied: nbformat>=4.4 in /home/ssl/anaconda3/envs/fastaiv2/lib/python3.6/site-packages (from nbconvert<6,>=5.5.0->voila) (5.0.7)\n",
      "Requirement already satisfied: jupyter-core in /home/ssl/anaconda3/envs/fastaiv2/lib/python3.6/site-packages (from nbconvert<6,>=5.5.0->voila) (4.6.3)\n",
      "Requirement already satisfied: entrypoints>=0.2.2 in /home/ssl/anaconda3/envs/fastaiv2/lib/python3.6/site-packages (from nbconvert<6,>=5.5.0->voila) (0.3)\n",
      "Requirement already satisfied: pandocfilters>=1.4.1 in /home/ssl/anaconda3/envs/fastaiv2/lib/python3.6/site-packages (from nbconvert<6,>=5.5.0->voila) (1.4.2)\n",
      "Requirement already satisfied: Send2Trash in /home/ssl/anaconda3/envs/fastaiv2/lib/python3.6/site-packages (from jupyter-server<0.2.0,>=0.1.0->voila) (1.5.0)\n",
      "Requirement already satisfied: terminado>=0.8.1 in /home/ssl/anaconda3/envs/fastaiv2/lib/python3.6/site-packages (from jupyter-server<0.2.0,>=0.1.0->voila) (0.8.3)\n",
      "Requirement already satisfied: ipython-genutils in /home/ssl/anaconda3/envs/fastaiv2/lib/python3.6/site-packages (from jupyter-server<0.2.0,>=0.1.0->voila) (0.2.0)\n",
      "Requirement already satisfied: pyzmq>=17 in /home/ssl/anaconda3/envs/fastaiv2/lib/python3.6/site-packages (from jupyter-server<0.2.0,>=0.1.0->voila) (19.0.2)\n",
      "Requirement already satisfied: tornado>=4 in /home/ssl/anaconda3/envs/fastaiv2/lib/python3.6/site-packages (from jupyter-server<0.2.0,>=0.1.0->voila) (6.0.4)\n",
      "Requirement already satisfied: jupyter-client>=5.3.1 in /home/ssl/anaconda3/envs/fastaiv2/lib/python3.6/site-packages (from jupyter-server<0.2.0,>=0.1.0->voila) (6.1.6)\n",
      "Requirement already satisfied: ipykernel in /home/ssl/anaconda3/envs/fastaiv2/lib/python3.6/site-packages (from jupyter-server<0.2.0,>=0.1.0->voila) (5.3.4)\n",
      "Requirement already satisfied: prometheus-client in /home/ssl/anaconda3/envs/fastaiv2/lib/python3.6/site-packages (from jupyter-server<0.2.0,>=0.1.0->voila) (0.8.0)\n",
      "Requirement already satisfied: six>=1.9.0 in /home/ssl/anaconda3/envs/fastaiv2/lib/python3.6/site-packages (from bleach->nbconvert<6,>=5.5.0->voila) (1.15.0)\n",
      "Requirement already satisfied: webencodings in /home/ssl/anaconda3/envs/fastaiv2/lib/python3.6/site-packages (from bleach->nbconvert<6,>=5.5.0->voila) (0.5.1)\n",
      "Requirement already satisfied: packaging in /home/ssl/anaconda3/envs/fastaiv2/lib/python3.6/site-packages (from bleach->nbconvert<6,>=5.5.0->voila) (20.4)\n",
      "Requirement already satisfied: MarkupSafe>=0.23 in /home/ssl/anaconda3/envs/fastaiv2/lib/python3.6/site-packages (from jinja2>=2.4->nbconvert<6,>=5.5.0->voila) (1.1.1)\n",
      "Requirement already satisfied: decorator in /home/ssl/anaconda3/envs/fastaiv2/lib/python3.6/site-packages (from traitlets>=4.2->nbconvert<6,>=5.5.0->voila) (4.4.2)\n",
      "Requirement already satisfied: jsonschema!=2.5.0,>=2.4 in /home/ssl/anaconda3/envs/fastaiv2/lib/python3.6/site-packages (from nbformat>=4.4->nbconvert<6,>=5.5.0->voila) (3.2.0)\n",
      "Requirement already satisfied: ptyprocess; os_name != \"nt\" in /home/ssl/anaconda3/envs/fastaiv2/lib/python3.6/site-packages (from terminado>=0.8.1->jupyter-server<0.2.0,>=0.1.0->voila) (0.6.0)\n",
      "Requirement already satisfied: python-dateutil>=2.1 in /home/ssl/anaconda3/envs/fastaiv2/lib/python3.6/site-packages (from jupyter-client>=5.3.1->jupyter-server<0.2.0,>=0.1.0->voila) (2.8.1)\n",
      "Requirement already satisfied: ipython>=5.0.0 in /home/ssl/anaconda3/envs/fastaiv2/lib/python3.6/site-packages (from ipykernel->jupyter-server<0.2.0,>=0.1.0->voila) (7.16.1)\n",
      "Requirement already satisfied: pyparsing>=2.0.2 in /home/ssl/anaconda3/envs/fastaiv2/lib/python3.6/site-packages (from packaging->bleach->nbconvert<6,>=5.5.0->voila) (2.4.7)\n",
      "Requirement already satisfied: importlib-metadata; python_version < \"3.8\" in /home/ssl/anaconda3/envs/fastaiv2/lib/python3.6/site-packages (from jsonschema!=2.5.0,>=2.4->nbformat>=4.4->nbconvert<6,>=5.5.0->voila) (1.7.0)\n",
      "Requirement already satisfied: pyrsistent>=0.14.0 in /home/ssl/anaconda3/envs/fastaiv2/lib/python3.6/site-packages (from jsonschema!=2.5.0,>=2.4->nbformat>=4.4->nbconvert<6,>=5.5.0->voila) (0.16.0)\n",
      "Requirement already satisfied: attrs>=17.4.0 in /home/ssl/anaconda3/envs/fastaiv2/lib/python3.6/site-packages (from jsonschema!=2.5.0,>=2.4->nbformat>=4.4->nbconvert<6,>=5.5.0->voila) (19.3.0)\n",
      "Requirement already satisfied: setuptools in /home/ssl/anaconda3/envs/fastaiv2/lib/python3.6/site-packages (from jsonschema!=2.5.0,>=2.4->nbformat>=4.4->nbconvert<6,>=5.5.0->voila) (49.2.0.post20200714)\n",
      "Requirement already satisfied: pickleshare in /home/ssl/anaconda3/envs/fastaiv2/lib/python3.6/site-packages (from ipython>=5.0.0->ipykernel->jupyter-server<0.2.0,>=0.1.0->voila) (0.7.5)\n",
      "Requirement already satisfied: backcall in /home/ssl/anaconda3/envs/fastaiv2/lib/python3.6/site-packages (from ipython>=5.0.0->ipykernel->jupyter-server<0.2.0,>=0.1.0->voila) (0.2.0)\n",
      "Requirement already satisfied: pexpect; sys_platform != \"win32\" in /home/ssl/anaconda3/envs/fastaiv2/lib/python3.6/site-packages (from ipython>=5.0.0->ipykernel->jupyter-server<0.2.0,>=0.1.0->voila) (4.8.0)\n",
      "Requirement already satisfied: prompt-toolkit!=3.0.0,!=3.0.1,<3.1.0,>=2.0.0 in /home/ssl/anaconda3/envs/fastaiv2/lib/python3.6/site-packages (from ipython>=5.0.0->ipykernel->jupyter-server<0.2.0,>=0.1.0->voila) (3.0.5)\n",
      "Requirement already satisfied: jedi>=0.10 in /home/ssl/anaconda3/envs/fastaiv2/lib/python3.6/site-packages (from ipython>=5.0.0->ipykernel->jupyter-server<0.2.0,>=0.1.0->voila) (0.17.2)\n",
      "Requirement already satisfied: zipp>=0.5 in /home/ssl/anaconda3/envs/fastaiv2/lib/python3.6/site-packages (from importlib-metadata; python_version < \"3.8\"->jsonschema!=2.5.0,>=2.4->nbformat>=4.4->nbconvert<6,>=5.5.0->voila) (3.1.0)\n",
      "Requirement already satisfied: wcwidth in /home/ssl/anaconda3/envs/fastaiv2/lib/python3.6/site-packages (from prompt-toolkit!=3.0.0,!=3.0.1,<3.1.0,>=2.0.0->ipython>=5.0.0->ipykernel->jupyter-server<0.2.0,>=0.1.0->voila) (0.2.5)\n",
      "Requirement already satisfied: parso<0.8.0,>=0.7.0 in /home/ssl/anaconda3/envs/fastaiv2/lib/python3.6/site-packages (from jedi>=0.10->ipython>=5.0.0->ipykernel->jupyter-server<0.2.0,>=0.1.0->voila) (0.7.1)\n",
      "Enabling: voila\n",
      "- Writing config: /home/ssl/anaconda3/envs/fastaiv2/etc/jupyter\n",
      "    - Validating...\n",
      "      voila 0.1.21 \u001b[32mOK\u001b[0m\n"
     ]
    }
   ],
   "source": [
    "!pip install voila\n",
    "!jupyter serverextension enable voila --sys-prefix"
   ]
  },
  {
   "cell_type": "code",
   "execution_count": null,
   "metadata": {},
   "outputs": [],
   "source": []
  }
 ],
 "metadata": {
  "kernelspec": {
   "display_name": "fastaiv2",
   "language": "python",
   "name": "fastaiv2"
  },
  "language_info": {
   "codemirror_mode": {
    "name": "ipython",
    "version": 3
   },
   "file_extension": ".py",
   "mimetype": "text/x-python",
   "name": "python",
   "nbconvert_exporter": "python",
   "pygments_lexer": "ipython3",
   "version": "3.6.10"
  }
 },
 "nbformat": 4,
 "nbformat_minor": 4
}
